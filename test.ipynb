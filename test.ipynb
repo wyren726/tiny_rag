{
 "cells": [
  {
   "cell_type": "code",
   "execution_count": 1,
   "metadata": {},
   "outputs": [],
   "source": [
    "from RAG.VectorBase import VectorStore\n",
    "from RAG.utils import ReadFiles\n",
    "from RAG.LLM import OpenAIChat, InternLMChat\n",
    "from RAG.Embeddings import JinaEmbedding"
   ]
  },
  {
   "cell_type": "code",
   "execution_count": 2,
   "metadata": {},
   "outputs": [
    {
     "name": "stderr",
     "output_type": "stream",
     "text": [
      "/root/miniconda3/envs/rag/lib/python3.10/site-packages/tqdm/auto.py:21: TqdmWarning: IProgress not found. Please update jupyter and ipywidgets. See https://ipywidgets.readthedocs.io/en/stable/user_install.html\n",
      "  from .autonotebook import tqdm as notebook_tqdm\n",
      "Calculating embeddings: 100%|██████████| 22/22 [00:00<00:00, 60.35it/s]\n"
     ]
    }
   ],
   "source": [
    "# 建立向量数据库\n",
    "docs = ReadFiles('./data').get_content(max_token_len=600, cover_content=150) # 获得data目录下的所有文件内容并分割\n",
    "vector = VectorStore(docs)\n",
    "embedding = JinaEmbedding(path='/root/autodl-tmp/jinaai/jina-embeddings-v2-base-zh') # 创建EmbeddingModel\n",
    "vector.get_vector(EmbeddingModel=embedding)\n",
    "vector.persist(path='storage') # 将向量和文档内容保存到storage目录下，下次再用就可以直接加载本地的数据库"
   ]
  },
  {
   "cell_type": "code",
   "execution_count": 5,
   "metadata": {},
   "outputs": [
    {
     "name": "stdout",
     "output_type": "stream",
     "text": [
      "\n",
      "可以拓展大学生的数学知识面，也能培养大学生的创新意识和创新能力、提高大学生的抽象思维能力、\n",
      "深化大学生对现代分析数学理论的理解。实变函数是数学专业课程中既难教又难学的一门课程，该课程\n",
      "理论性强，内容抽象且对初学者的基础知识、逻辑推理能力要求高，学习难度比较大。\n",
      "2.实变函数教学普遍存在的各类问题\n",
      "目前在实变函数教学过程中普遍存在以下几类比较典型的问题。一是过分关注知识传授的概而全，只为完成书本的教学内容，不能根据学校和学生的实际情况对书本内容进行处理，以适应学生的需求及学校培养目标的需要。这种教学方式只适合于精英教育，并不适合现在一般本科院校数学系。这种教学\n",
      "方式会影响学生学习的积极性，从而影响学习效果。二是过分注重知识的讲解，忽视与学生的交流、忽\n",
      "视学生之间的互相合作与交流对理解和掌握知识方面的重要性，缺少对学生的知识的掌握情况和学习过\n",
      "\n"
     ]
    }
   ],
   "source": [
    "vector = VectorStore()\n",
    "\n",
    "vector.load_vector('./storage') # 加载本地的数据库\n",
    "\n",
    "embedding = JinaEmbedding(path='/root/autodl-tmp/jinaai/jina-embeddings-v2-base-zh')\n",
    "\n",
    "# question = '实变函数的中心内容是什么？'\n",
    "question = '目前在实变函数教学过程中存在哪些问题？'\n",
    "\n",
    "content = vector.query(question, EmbeddingModel=embedding, k=1)[0]\n",
    "\n",
    "print(content)"
   ]
  },
  {
   "cell_type": "code",
   "execution_count": 9,
   "metadata": {},
   "outputs": [
    {
     "name": "stderr",
     "output_type": "stream",
     "text": [
      "Loading checkpoint shards: 100%|██████████| 8/8 [00:01<00:00,  4.78it/s]\n"
     ]
    },
    {
     "name": "stdout",
     "output_type": "stream",
     "text": [
      "根据给定的上下文，目前在实变函数教学过程中存在以下问题：\n",
      "\n",
      "1. **过分关注知识传授的概而全**：教学内容过于追求全面，忽视了对教学内容进行适当调整，以适应不同学校和学生的实际情况，这可能无法满足学生的学习需求和学校的培养目标。\n",
      "\n",
      "2. **过分注重知识的讲解**：教学中过于侧重知识的讲解，而忽视与学生的交流和合作。学生之间的互相交流和合作对于理解和掌握知识至关重要，但这一环节在教学过程中被忽视了。\n",
      "\n",
      "3. **缺乏对学生知识掌握情况的关注**：教学过程中缺少对学生知识掌握情况的跟踪和评估，无法及时发现学生的问题和困难，从而无法进行针对性的教学辅助。\n",
      "\n",
      "4. **教学方式不适合一般本科院校**：实变函数教学的方式可能更适合精英教育，而不适合一般本科院校的数学系。因此，需要根据不同层次的教育需求，调整教学策略和内容。\n",
      "\n",
      "为了解决这些问题，教学者可以采取以下措施：\n",
      "\n",
      "- 针对不同学校和学生的实际情况，对教学内容进行适当的调整和补充，以满足学生的需求和学校的培养目标。\n",
      "- 重视教学过程中的交流与合作，鼓励学生之间的互相讨论和合作，以促进对知识的理解和掌握。\n",
      "- 定期对学生的知识掌握情况进行评估，及时发现问题并给予针对性的帮助。\n",
      "- 根据不同层次的教育需求，选择和设计适合的教学策略和内容，确保教学方式与教育目标相匹配。\n",
      "\n",
      "总之，实变函数教学需要关注学生的实际需求，注重教学过程中的交流与合作，以及适时地对教学内容和方式进行调整，以提高教学效果和学生的学习体验。\n"
     ]
    }
   ],
   "source": [
    "model = InternLMChat(path='/root/autodl-tmp/Shanghai_AI_Laboratory/internlm2-chat-7b')\n",
    "print(model.chat(question, [], content))"
   ]
  },
  {
   "cell_type": "code",
   "execution_count": null,
   "metadata": {},
   "outputs": [],
   "source": []
  }
 ],
 "metadata": {
  "kernelspec": {
   "display_name": "rag",
   "language": "python",
   "name": "python3"
  },
  "language_info": {
   "codemirror_mode": {
    "name": "ipython",
    "version": 3
   },
   "file_extension": ".py",
   "mimetype": "text/x-python",
   "name": "python",
   "nbconvert_exporter": "python",
   "pygments_lexer": "ipython3",
   "version": "3.10.17"
  }
 },
 "nbformat": 4,
 "nbformat_minor": 2
}
